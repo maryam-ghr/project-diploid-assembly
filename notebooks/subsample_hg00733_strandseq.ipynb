{
 "cells": [
  {
   "cell_type": "code",
   "execution_count": 88,
   "metadata": {},
   "outputs": [
    {
     "name": "stdout",
     "output_type": "stream",
     "text": [
      "copying\n"
     ]
    }
   ],
   "source": [
    "import yaml\n",
    "import json\n",
    "import os\n",
    "import random\n",
    "import shutil\n",
    "\n",
    "\n",
    "folder = '/scratch/bioinf/projects/diploid-genome-assembly/pebert/test_clr/run_folder/input/fastq/HG00733_1kg_il25k-npe_sseq'\n",
    "\n",
    "out_folder = '/scratch/bioinf/projects/diploid-genome-assembly/pebert/subsampling'\n",
    "os.makedirs(out_folder, exist_ok=True)\n",
    "\n",
    "all_files = os.listdir(folder)\n",
    "\n",
    "all_libs = set([x.split('_')[3] for x in all_files if x.endswith('.fastq.gz')])\n",
    "\n",
    "total_libs = len(all_libs)\n",
    "\n",
    "all_subsets = []\n",
    "\n",
    "while 1:\n",
    "\n",
    "    for factor in [0.8, 0.6, 0.4, 0.2]:\n",
    "        select_num = int(round(total_libs * factor))\n",
    "        selected_libs = set(random.sample(all_libs, select_num))\n",
    "        all_subsets.append(selected_libs)\n",
    "\n",
    "    all_jaccards = []\n",
    "\n",
    "    for i in all_subsets:\n",
    "        for j in all_subsets:\n",
    "            if i == j:\n",
    "                continue\n",
    "            isect = i.intersection(j)\n",
    "            union = i.union(j)\n",
    "            jaccard = len(isect) / len(union)\n",
    "            all_jaccards.append(jaccard)\n",
    "\n",
    "    if all([j < 0.5 for j in all_jaccards]):\n",
    "        print('copying')\n",
    "        for subset, label in zip(all_subsets, ['sub80', 'sub60', 'sub40', 'sub20']):\n",
    "            out_path = os.path.join(out_folder, label)\n",
    "            os.makedirs(out_path, exist_ok=True)\n",
    "            for lib in subset:\n",
    "                subset_files = [f for f in all_files if lib in f]\n",
    "                for sf in subset_files:\n",
    "                    new_file = sf.replace('1kg', label)\n",
    "                    old_path = os.path.join(folder, sf)\n",
    "                    new_path = os.path.join(out_path, new_file)\n",
    "                    shutil.copy(old_path, new_path)\n",
    "        break\n",
    "    else:\n",
    "        print('max j ', max(all_jaccards))\n",
    "                \n",
    "    \n",
    "    \n",
    "\n",
    "\n",
    "\n"
   ]
  }
 ],
 "metadata": {
  "kernelspec": {
   "display_name": "Python 3",
   "language": "python",
   "name": "python3"
  },
  "language_info": {
   "codemirror_mode": {
    "name": "ipython",
    "version": 3
   },
   "file_extension": ".py",
   "mimetype": "text/x-python",
   "name": "python",
   "nbconvert_exporter": "python",
   "pygments_lexer": "ipython3",
   "version": "3.6.7"
  }
 },
 "nbformat": 4,
 "nbformat_minor": 2
}
